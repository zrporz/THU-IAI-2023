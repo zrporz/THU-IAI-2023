{
 "cells": [
  {
   "cell_type": "code",
   "execution_count": 1,
   "metadata": {},
   "outputs": [
    {
     "name": "stdout",
     "output_type": "stream",
     "text": [
      "47a9cc779f2d4df0b5e8fab63882f5c3 # <<Connect4_100>>\n",
      "\n",
      "3aca4ba29b6646069bcd137c751f9ef0 # <<Connect4_94>>\n",
      "\n",
      "bcf1c28129844dac819deaa631925e7c # <<Connect4_92>>\n",
      "\n",
      "a38c8989f4ff43178852b1505f4ea223 # <<Connect4_90>>\n",
      "\n",
      "dd175e4f2d9e4a0ea5362870c451dda5 # <<Connect4_96>>\n",
      "\n",
      "6687d8d1f5684d5ea9a0e251c2dea2df # <<Connect4_98>>\n",
      "\n"
     ]
    }
   ],
   "source": [
    "test_range = [90,102]\n",
    "filter_list  = range(test_range[0],test_range[1])\n",
    "filter_list_str = []\n",
    "for t in filter_list:\n",
    "    filter_list_str.append(str(t))\n",
    "output = []\n",
    "with open(\"test_token.txt\",\"r\") as f:\n",
    "    for line in f:\n",
    "        if line.split('_')[1].split('>')[0] in filter_list_str:\n",
    "            output.append(line)\n",
    "for line in output: print(line)"
   ]
  }
 ],
 "metadata": {
  "kernelspec": {
   "display_name": "summer",
   "language": "python",
   "name": "python3"
  },
  "language_info": {
   "codemirror_mode": {
    "name": "ipython",
    "version": 3
   },
   "file_extension": ".py",
   "mimetype": "text/x-python",
   "name": "python",
   "nbconvert_exporter": "python",
   "pygments_lexer": "ipython3",
   "version": "3.8.13"
  },
  "orig_nbformat": 4
 },
 "nbformat": 4,
 "nbformat_minor": 2
}
